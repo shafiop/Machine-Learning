{
 "cells": [
  {
   "cell_type": "markdown",
   "id": "fffb0b1f",
   "metadata": {},
   "source": [
    "## Creating Data Frame"
   ]
  },
  {
   "cell_type": "code",
   "execution_count": null,
   "id": "64366ac7",
   "metadata": {},
   "outputs": [],
   "source": [
    "\n",
    "\n",
    "import pandas as pd\n",
    "import numpy as np"
   ]
  },
  {
   "cell_type": "code",
   "execution_count": 2,
   "id": "1183ef6b",
   "metadata": {},
   "outputs": [],
   "source": [
    "import warnings\n",
    "warnings.filterwarnings('ignore')"
   ]
  },
  {
   "cell_type": "markdown",
   "id": "264f8606",
   "metadata": {},
   "source": [
    "#### Creating Series"
   ]
  },
  {
   "cell_type": "code",
   "execution_count": 3,
   "id": "e72583fe",
   "metadata": {},
   "outputs": [],
   "source": [
    "my_series=pd.Series([11,12,13,14])"
   ]
  },
  {
   "cell_type": "code",
   "execution_count": 4,
   "id": "352c2ca2",
   "metadata": {},
   "outputs": [
    {
     "data": {
      "text/plain": [
       "0    11\n",
       "1    12\n",
       "2    13\n",
       "3    14\n",
       "dtype: int64"
      ]
     },
     "execution_count": 4,
     "metadata": {},
     "output_type": "execute_result"
    }
   ],
   "source": [
    "my_series"
   ]
  },
  {
   "cell_type": "markdown",
   "id": "db125f13",
   "metadata": {},
   "source": [
    "#### Converting series to list"
   ]
  },
  {
   "cell_type": "code",
   "execution_count": 5,
   "id": "cd6e4ecd",
   "metadata": {},
   "outputs": [
    {
     "name": "stdout",
     "output_type": "stream",
     "text": [
      "<bound method IndexOpsMixin.tolist of 0    11\n",
      "1    12\n",
      "2    13\n",
      "3    14\n",
      "dtype: int64>\n"
     ]
    }
   ],
   "source": [
    "print(my_series.tolist)"
   ]
  },
  {
   "cell_type": "markdown",
   "id": "d1e6d16f",
   "metadata": {},
   "source": [
    "#### Creating empty data frame"
   ]
  },
  {
   "cell_type": "code",
   "execution_count": 6,
   "id": "ac19e1cb",
   "metadata": {},
   "outputs": [],
   "source": [
    "my_df=pd.DataFrame()"
   ]
  },
  {
   "cell_type": "code",
   "execution_count": 7,
   "id": "d894cb00",
   "metadata": {},
   "outputs": [
    {
     "data": {
      "text/html": [
       "<div>\n",
       "<style scoped>\n",
       "    .dataframe tbody tr th:only-of-type {\n",
       "        vertical-align: middle;\n",
       "    }\n",
       "\n",
       "    .dataframe tbody tr th {\n",
       "        vertical-align: top;\n",
       "    }\n",
       "\n",
       "    .dataframe thead th {\n",
       "        text-align: right;\n",
       "    }\n",
       "</style>\n",
       "<table border=\"1\" class=\"dataframe\">\n",
       "  <thead>\n",
       "    <tr style=\"text-align: right;\">\n",
       "      <th></th>\n",
       "    </tr>\n",
       "  </thead>\n",
       "  <tbody>\n",
       "  </tbody>\n",
       "</table>\n",
       "</div>"
      ],
      "text/plain": [
       "Empty DataFrame\n",
       "Columns: []\n",
       "Index: []"
      ]
     },
     "execution_count": 7,
     "metadata": {},
     "output_type": "execute_result"
    }
   ],
   "source": [
    "my_df"
   ]
  },
  {
   "cell_type": "markdown",
   "id": "18fee1ad",
   "metadata": {},
   "source": [
    "#### Data Frame using list"
   ]
  },
  {
   "cell_type": "code",
   "execution_count": 8,
   "id": "871bca5b",
   "metadata": {},
   "outputs": [],
   "source": [
    "Scores=[['Maths',29],['English',31],['History',35],['Physics',33]]"
   ]
  },
  {
   "cell_type": "code",
   "execution_count": 9,
   "id": "3cbf1168",
   "metadata": {},
   "outputs": [
    {
     "data": {
      "text/plain": [
       "[['Maths', 29], ['English', 31], ['History', 35], ['Physics', 33]]"
      ]
     },
     "execution_count": 9,
     "metadata": {},
     "output_type": "execute_result"
    }
   ],
   "source": [
    "Scores"
   ]
  },
  {
   "cell_type": "code",
   "execution_count": 10,
   "id": "9ceccb37",
   "metadata": {},
   "outputs": [],
   "source": [
    "df1=pd.DataFrame(Scores, columns=['Subject',\"Mark\"])"
   ]
  },
  {
   "cell_type": "code",
   "execution_count": 11,
   "id": "14e7f9cd",
   "metadata": {},
   "outputs": [
    {
     "data": {
      "text/html": [
       "<div>\n",
       "<style scoped>\n",
       "    .dataframe tbody tr th:only-of-type {\n",
       "        vertical-align: middle;\n",
       "    }\n",
       "\n",
       "    .dataframe tbody tr th {\n",
       "        vertical-align: top;\n",
       "    }\n",
       "\n",
       "    .dataframe thead th {\n",
       "        text-align: right;\n",
       "    }\n",
       "</style>\n",
       "<table border=\"1\" class=\"dataframe\">\n",
       "  <thead>\n",
       "    <tr style=\"text-align: right;\">\n",
       "      <th></th>\n",
       "      <th>Subject</th>\n",
       "      <th>Mark</th>\n",
       "    </tr>\n",
       "  </thead>\n",
       "  <tbody>\n",
       "    <tr>\n",
       "      <th>0</th>\n",
       "      <td>Maths</td>\n",
       "      <td>29</td>\n",
       "    </tr>\n",
       "    <tr>\n",
       "      <th>1</th>\n",
       "      <td>English</td>\n",
       "      <td>31</td>\n",
       "    </tr>\n",
       "    <tr>\n",
       "      <th>2</th>\n",
       "      <td>History</td>\n",
       "      <td>35</td>\n",
       "    </tr>\n",
       "    <tr>\n",
       "      <th>3</th>\n",
       "      <td>Physics</td>\n",
       "      <td>33</td>\n",
       "    </tr>\n",
       "  </tbody>\n",
       "</table>\n",
       "</div>"
      ],
      "text/plain": [
       "   Subject  Mark\n",
       "0    Maths    29\n",
       "1  English    31\n",
       "2  History    35\n",
       "3  Physics    33"
      ]
     },
     "execution_count": 11,
     "metadata": {},
     "output_type": "execute_result"
    }
   ],
   "source": [
    "df1"
   ]
  },
  {
   "cell_type": "markdown",
   "id": "11689fb2",
   "metadata": {},
   "source": [
    "#### Data frame using dictionaries"
   ]
  },
  {
   "cell_type": "code",
   "execution_count": 13,
   "id": "1f54b250",
   "metadata": {},
   "outputs": [],
   "source": [
    "Scores={'Subject':['Maths', 'History', 'Arts'], 'Scores':[98,75,68]}"
   ]
  },
  {
   "cell_type": "code",
   "execution_count": 14,
   "id": "1f29bc95",
   "metadata": {},
   "outputs": [
    {
     "data": {
      "text/plain": [
       "{'Subject': ['Maths', 'History', 'Arts'], 'Scores': [98, 75, 68]}"
      ]
     },
     "execution_count": 14,
     "metadata": {},
     "output_type": "execute_result"
    }
   ],
   "source": [
    "Scores"
   ]
  },
  {
   "cell_type": "markdown",
   "id": "05e79102",
   "metadata": {},
   "source": [
    "#### Data frame using list of dictionaries"
   ]
  },
  {
   "cell_type": "code",
   "execution_count": 15,
   "id": "5fdcd3cd",
   "metadata": {},
   "outputs": [],
   "source": [
    "Scores=[{\"Subject\":\"Maths\", \"Score\":85},{\"Subject\":\"History\", \"Score\":78},{\"Subject\":\"Arts\", \"Score\":68}]"
   ]
  },
  {
   "cell_type": "code",
   "execution_count": 16,
   "id": "32d0a1d0",
   "metadata": {},
   "outputs": [
    {
     "data": {
      "text/plain": [
       "[{'Subject': 'Maths', 'Score': 85},\n",
       " {'Subject': 'History', 'Score': 78},\n",
       " {'Subject': 'Arts', 'Score': 68}]"
      ]
     },
     "execution_count": 16,
     "metadata": {},
     "output_type": "execute_result"
    }
   ],
   "source": [
    "Scores"
   ]
  },
  {
   "cell_type": "code",
   "execution_count": null,
   "id": "3092a5d2",
   "metadata": {},
   "outputs": [],
   "source": []
  }
 ],
 "metadata": {
  "kernelspec": {
   "display_name": "Python 3 (ipykernel)",
   "language": "python",
   "name": "python3"
  },
  "language_info": {
   "codemirror_mode": {
    "name": "ipython",
    "version": 3
   },
   "file_extension": ".py",
   "mimetype": "text/x-python",
   "name": "python",
   "nbconvert_exporter": "python",
   "pygments_lexer": "ipython3",
   "version": "3.10.9"
  }
 },
 "nbformat": 4,
 "nbformat_minor": 5
}
