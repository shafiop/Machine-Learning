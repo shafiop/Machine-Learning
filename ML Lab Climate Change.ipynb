{
 "cells": [
  {
   "cell_type": "code",
   "execution_count": 1,
   "id": "e3f00be5",
   "metadata": {},
   "outputs": [],
   "source": [
    "import pandas as pd\n",
    "import numpy as np\n",
    "import matplotlib.pyplot as plt"
   ]
  },
  {
   "cell_type": "code",
   "execution_count": 8,
   "id": "5c9012c1",
   "metadata": {},
   "outputs": [],
   "source": [
    "df=pd.read_csv('./climate_change_data.csv',parse_dates=['Date'])"
   ]
  },
  {
   "cell_type": "code",
   "execution_count": 3,
   "id": "4be80be3",
   "metadata": {},
   "outputs": [
    {
     "data": {
      "text/html": [
       "<div>\n",
       "<style scoped>\n",
       "    .dataframe tbody tr th:only-of-type {\n",
       "        vertical-align: middle;\n",
       "    }\n",
       "\n",
       "    .dataframe tbody tr th {\n",
       "        vertical-align: top;\n",
       "    }\n",
       "\n",
       "    .dataframe thead th {\n",
       "        text-align: right;\n",
       "    }\n",
       "</style>\n",
       "<table border=\"1\" class=\"dataframe\">\n",
       "  <thead>\n",
       "    <tr style=\"text-align: right;\">\n",
       "      <th></th>\n",
       "      <th>Date</th>\n",
       "      <th>Location</th>\n",
       "      <th>Country</th>\n",
       "      <th>Temperature</th>\n",
       "      <th>CO2 Emissions</th>\n",
       "      <th>Sea Level Rise</th>\n",
       "      <th>Precipitation</th>\n",
       "      <th>Humidity</th>\n",
       "      <th>Wind Speed</th>\n",
       "    </tr>\n",
       "  </thead>\n",
       "  <tbody>\n",
       "    <tr>\n",
       "      <th>0</th>\n",
       "      <td>2000-01-01 00:00:00.000000000</td>\n",
       "      <td>New Williamtown</td>\n",
       "      <td>Latvia</td>\n",
       "      <td>10.688986</td>\n",
       "      <td>403.118903</td>\n",
       "      <td>0.717506</td>\n",
       "      <td>13.835237</td>\n",
       "      <td>23.631256</td>\n",
       "      <td>18.492026</td>\n",
       "    </tr>\n",
       "    <tr>\n",
       "      <th>1</th>\n",
       "      <td>2000-01-01 20:09:43.258325832</td>\n",
       "      <td>North Rachel</td>\n",
       "      <td>South Africa</td>\n",
       "      <td>13.814430</td>\n",
       "      <td>396.663499</td>\n",
       "      <td>1.205715</td>\n",
       "      <td>40.974084</td>\n",
       "      <td>43.982946</td>\n",
       "      <td>34.249300</td>\n",
       "    </tr>\n",
       "    <tr>\n",
       "      <th>2</th>\n",
       "      <td>2000-01-02 16:19:26.516651665</td>\n",
       "      <td>West Williamland</td>\n",
       "      <td>French Guiana</td>\n",
       "      <td>27.323718</td>\n",
       "      <td>451.553155</td>\n",
       "      <td>-0.160783</td>\n",
       "      <td>42.697931</td>\n",
       "      <td>96.652600</td>\n",
       "      <td>34.124261</td>\n",
       "    </tr>\n",
       "    <tr>\n",
       "      <th>3</th>\n",
       "      <td>2000-01-03 12:29:09.774977497</td>\n",
       "      <td>South David</td>\n",
       "      <td>Vietnam</td>\n",
       "      <td>12.309581</td>\n",
       "      <td>422.404983</td>\n",
       "      <td>-0.475931</td>\n",
       "      <td>5.193341</td>\n",
       "      <td>47.467938</td>\n",
       "      <td>8.554563</td>\n",
       "    </tr>\n",
       "    <tr>\n",
       "      <th>4</th>\n",
       "      <td>2000-01-04 08:38:53.033303330</td>\n",
       "      <td>New Scottburgh</td>\n",
       "      <td>Moldova</td>\n",
       "      <td>13.210885</td>\n",
       "      <td>410.472999</td>\n",
       "      <td>1.135757</td>\n",
       "      <td>78.695280</td>\n",
       "      <td>61.789672</td>\n",
       "      <td>8.001164</td>\n",
       "    </tr>\n",
       "    <tr>\n",
       "      <th>...</th>\n",
       "      <td>...</td>\n",
       "      <td>...</td>\n",
       "      <td>...</td>\n",
       "      <td>...</td>\n",
       "      <td>...</td>\n",
       "      <td>...</td>\n",
       "      <td>...</td>\n",
       "      <td>...</td>\n",
       "      <td>...</td>\n",
       "    </tr>\n",
       "    <tr>\n",
       "      <th>9995</th>\n",
       "      <td>2022-12-27 15:21:06.966696576</td>\n",
       "      <td>South Elaineberg</td>\n",
       "      <td>Bhutan</td>\n",
       "      <td>15.020523</td>\n",
       "      <td>391.379537</td>\n",
       "      <td>-1.452243</td>\n",
       "      <td>93.417109</td>\n",
       "      <td>25.293814</td>\n",
       "      <td>6.531866</td>\n",
       "    </tr>\n",
       "    <tr>\n",
       "      <th>9996</th>\n",
       "      <td>2022-12-28 11:30:50.225022464</td>\n",
       "      <td>Leblancville</td>\n",
       "      <td>Congo</td>\n",
       "      <td>16.772451</td>\n",
       "      <td>346.921190</td>\n",
       "      <td>0.543616</td>\n",
       "      <td>49.882947</td>\n",
       "      <td>96.787402</td>\n",
       "      <td>42.249014</td>\n",
       "    </tr>\n",
       "    <tr>\n",
       "      <th>9997</th>\n",
       "      <td>2022-12-29 07:40:33.483348224</td>\n",
       "      <td>West Stephanie</td>\n",
       "      <td>Argentina</td>\n",
       "      <td>22.370025</td>\n",
       "      <td>466.042136</td>\n",
       "      <td>1.026704</td>\n",
       "      <td>30.659841</td>\n",
       "      <td>15.211825</td>\n",
       "      <td>18.293708</td>\n",
       "    </tr>\n",
       "    <tr>\n",
       "      <th>9998</th>\n",
       "      <td>2022-12-30 03:50:16.741674112</td>\n",
       "      <td>Port Steven</td>\n",
       "      <td>Albania</td>\n",
       "      <td>19.430853</td>\n",
       "      <td>337.899776</td>\n",
       "      <td>-0.895329</td>\n",
       "      <td>18.932275</td>\n",
       "      <td>82.774520</td>\n",
       "      <td>42.424255</td>\n",
       "    </tr>\n",
       "    <tr>\n",
       "      <th>9999</th>\n",
       "      <td>2022-12-31 00:00:00.000000000</td>\n",
       "      <td>West Anthonyburgh</td>\n",
       "      <td>Sao Tome and Principe</td>\n",
       "      <td>12.661928</td>\n",
       "      <td>381.172746</td>\n",
       "      <td>2.260788</td>\n",
       "      <td>78.339658</td>\n",
       "      <td>99.243923</td>\n",
       "      <td>41.856539</td>\n",
       "    </tr>\n",
       "  </tbody>\n",
       "</table>\n",
       "<p>10000 rows × 9 columns</p>\n",
       "</div>"
      ],
      "text/plain": [
       "                               Date           Location                Country  \\\n",
       "0     2000-01-01 00:00:00.000000000    New Williamtown                 Latvia   \n",
       "1     2000-01-01 20:09:43.258325832       North Rachel           South Africa   \n",
       "2     2000-01-02 16:19:26.516651665   West Williamland          French Guiana   \n",
       "3     2000-01-03 12:29:09.774977497        South David                Vietnam   \n",
       "4     2000-01-04 08:38:53.033303330     New Scottburgh                Moldova   \n",
       "...                             ...                ...                    ...   \n",
       "9995  2022-12-27 15:21:06.966696576   South Elaineberg                 Bhutan   \n",
       "9996  2022-12-28 11:30:50.225022464       Leblancville                  Congo   \n",
       "9997  2022-12-29 07:40:33.483348224     West Stephanie              Argentina   \n",
       "9998  2022-12-30 03:50:16.741674112        Port Steven                Albania   \n",
       "9999  2022-12-31 00:00:00.000000000  West Anthonyburgh  Sao Tome and Principe   \n",
       "\n",
       "      Temperature  CO2 Emissions  Sea Level Rise  Precipitation   Humidity  \\\n",
       "0       10.688986     403.118903        0.717506      13.835237  23.631256   \n",
       "1       13.814430     396.663499        1.205715      40.974084  43.982946   \n",
       "2       27.323718     451.553155       -0.160783      42.697931  96.652600   \n",
       "3       12.309581     422.404983       -0.475931       5.193341  47.467938   \n",
       "4       13.210885     410.472999        1.135757      78.695280  61.789672   \n",
       "...           ...            ...             ...            ...        ...   \n",
       "9995    15.020523     391.379537       -1.452243      93.417109  25.293814   \n",
       "9996    16.772451     346.921190        0.543616      49.882947  96.787402   \n",
       "9997    22.370025     466.042136        1.026704      30.659841  15.211825   \n",
       "9998    19.430853     337.899776       -0.895329      18.932275  82.774520   \n",
       "9999    12.661928     381.172746        2.260788      78.339658  99.243923   \n",
       "\n",
       "      Wind Speed  \n",
       "0      18.492026  \n",
       "1      34.249300  \n",
       "2      34.124261  \n",
       "3       8.554563  \n",
       "4       8.001164  \n",
       "...          ...  \n",
       "9995    6.531866  \n",
       "9996   42.249014  \n",
       "9997   18.293708  \n",
       "9998   42.424255  \n",
       "9999   41.856539  \n",
       "\n",
       "[10000 rows x 9 columns]"
      ]
     },
     "execution_count": 3,
     "metadata": {},
     "output_type": "execute_result"
    }
   ],
   "source": [
    "df"
   ]
  },
  {
   "cell_type": "code",
   "execution_count": 11,
   "id": "35090dd2",
   "metadata": {},
   "outputs": [],
   "source": [
    "# Group data by year and calculate average temperature\n",
    "yearly_avg_temp = df.groupby(df['Date'].dt.year)['Temperature'].mean()"
   ]
  },
  {
   "cell_type": "markdown",
   "id": "a0559b1c",
   "metadata": {},
   "source": [
    "### Explore Global Temperature Changes Over Time"
   ]
  },
  {
   "cell_type": "code",
   "execution_count": 15,
   "id": "bacaea83",
   "metadata": {},
   "outputs": [
    {
     "data": {
      "text/plain": [
       "Date\n",
       "2000    15.029889\n",
       "2001    14.941470\n",
       "2002    14.632097\n",
       "2003    15.156629\n",
       "2004    15.281254\n",
       "2005    15.393362\n",
       "2006    14.914295\n",
       "2007    15.209550\n",
       "2008    14.827236\n",
       "2009    14.484853\n",
       "2010    14.767072\n",
       "2011    15.107760\n",
       "2012    14.542392\n",
       "2013    14.966602\n",
       "2014    15.193593\n",
       "2015    14.575473\n",
       "2016    15.033052\n",
       "2017    14.853962\n",
       "2018    14.647893\n",
       "2019    15.096462\n",
       "2020    15.108094\n",
       "2021    15.130248\n",
       "2022    14.635067\n",
       "Name: Temperature, dtype: float64"
      ]
     },
     "execution_count": 15,
     "metadata": {},
     "output_type": "execute_result"
    }
   ],
   "source": [
    "yearly_avg_temp"
   ]
  },
  {
   "cell_type": "code",
   "execution_count": 16,
   "id": "2c2c029f",
   "metadata": {},
   "outputs": [
    {
     "data": {
      "image/png": "[encoded data removed]",
      "text/plain": [
       "<Figure size 640x480 with 1 Axes>"
      ]
     },
     "metadata": {},
     "output_type": "display_data"
    }
   ],
   "source": [
    "# Plot global temperature changes over time\n",
    "plt.plot(yearly_avg_temp.index, yearly_avg_temp.values)\n",
    "plt.xlabel('Year')\n",
    "plt.ylabel('Temperature')\n",
    "plt.title('Global Temperature Change Over Time')\n",
    "plt.show()"
   ]
  },
  {
   "cell_type": "code",
   "execution_count": 18,
   "id": "70cebfaf",
   "metadata": {},
   "outputs": [],
   "source": [
    "# Group data by country and calculate temperature change\n",
    "country_avg_temp = df.groupby('Country')['Temperature'].mean()"
   ]
  },
  {
   "cell_type": "code",
   "execution_count": 19,
   "id": "84eaafd2",
   "metadata": {},
   "outputs": [
    {
     "data": {
      "text/plain": [
       "Country\n",
       "Afghanistan          14.730345\n",
       "Albania              15.646637\n",
       "Algeria              14.496989\n",
       "American Samoa       15.895872\n",
       "Andorra              15.074974\n",
       "                       ...    \n",
       "Wallis and Futuna    14.827670\n",
       "Western Sahara       15.386609\n",
       "Yemen                15.140053\n",
       "Zambia               14.706316\n",
       "Zimbabwe             15.000557\n",
       "Name: Temperature, Length: 243, dtype: float64"
      ]
     },
     "execution_count": 19,
     "metadata": {},
     "output_type": "execute_result"
    }
   ],
   "source": [
    "country_avg_temp"
   ]
  },
  {
   "cell_type": "markdown",
   "id": "220950dc",
   "metadata": {},
   "source": [
    "### Analyze Temperature Changes Among Different Countries or Regions:"
   ]
  },
  {
   "cell_type": "code",
   "execution_count": 20,
   "id": "39feb37e",
   "metadata": {},
   "outputs": [],
   "source": [
    "# Identify countries with the highest temperature increases and decreases\n",
    "countries_highest_increase = country_avg_temp.nlargest(5)\n",
    "countries_highest_decrease = country_avg_temp.nsmallest(5)"
   ]
  },
  {
   "cell_type": "code",
   "execution_count": 21,
   "id": "8e09e2a3",
   "metadata": {},
   "outputs": [
    {
     "data": {
      "text/plain": [
       "Country\n",
       "United States of America    17.280005\n",
       "Saint Martin                16.989042\n",
       "Niger                       16.963188\n",
       "Turks and Caicos Islands    16.924763\n",
       "Switzerland                 16.519842\n",
       "Name: Temperature, dtype: float64"
      ]
     },
     "execution_count": 21,
     "metadata": {},
     "output_type": "execute_result"
    }
   ],
   "source": [
    "countries_highest_increase"
   ]
  },
  {
   "cell_type": "code",
   "execution_count": 22,
   "id": "a3d7e281",
   "metadata": {},
   "outputs": [
    {
     "data": {
      "text/plain": [
       "Country\n",
       "Kazakhstan         12.554785\n",
       "Solomon Islands    12.837809\n",
       "Sweden             12.865208\n",
       "Poland             13.087618\n",
       "Serbia             13.409504\n",
       "Name: Temperature, dtype: float64"
      ]
     },
     "execution_count": 22,
     "metadata": {},
     "output_type": "execute_result"
    }
   ],
   "source": [
    "countries_highest_decrease"
   ]
  },
  {
   "cell_type": "markdown",
   "id": "547cc822",
   "metadata": {},
   "source": [
    "### Examine the Correlation Between CO2 Emissions and Temperature Changes:"
   ]
  },
  {
   "cell_type": "code",
   "execution_count": 24,
   "id": "83f02f87",
   "metadata": {},
   "outputs": [],
   "source": [
    "# Calculate correlation coefficient between CO2 emissions and temperature\n",
    "correlation = df['CO2 Emissions'].corr(df['Temperature'])"
   ]
  },
  {
   "cell_type": "code",
   "execution_count": 25,
   "id": "f5adbf1c",
   "metadata": {},
   "outputs": [
    {
     "data": {
      "text/plain": [
       "-0.002775249397292701"
      ]
     },
     "execution_count": 25,
     "metadata": {},
     "output_type": "execute_result"
    }
   ],
   "source": [
    "correlation"
   ]
  },
  {
   "cell_type": "markdown",
   "id": "effd8e58",
   "metadata": {},
   "source": [
    "### Investigate Sea Level Rise:"
   ]
  },
  {
   "cell_type": "code",
   "execution_count": 26,
   "id": "d116ad02",
   "metadata": {},
   "outputs": [],
   "source": [
    "# Calculate average sea level rise over time\n",
    "avg_sea_level_rise = df.groupby(df['Date'].dt.year)['Sea Level Rise'].mean()\n",
    "\n",
    "# Identify countries or regions with the most pronounced sea level rise\n",
    "countries_most_sea_level_rise = df.groupby('Country')['Sea Level Rise'].mean().nlargest(5)"
   ]
  },
  {
   "cell_type": "code",
   "execution_count": 27,
   "id": "1b3b8412",
   "metadata": {},
   "outputs": [
    {
     "data": {
      "text/plain": [
       "Date\n",
       "2000    0.066779\n",
       "2001    0.021331\n",
       "2002   -0.103499\n",
       "2003    0.033171\n",
       "2004    0.098114\n",
       "2005   -0.028545\n",
       "2006   -0.042107\n",
       "2007    0.052351\n",
       "2008   -0.137645\n",
       "2009   -0.071911\n",
       "2010    0.049735\n",
       "2011   -0.001791\n",
       "2012   -0.073253\n",
       "2013   -0.004936\n",
       "2014    0.051262\n",
       "2015    0.017220\n",
       "2016   -0.039448\n",
       "2017    0.101533\n",
       "2018    0.050916\n",
       "2019   -0.032968\n",
       "2020   -0.055686\n",
       "2021   -0.020838\n",
       "2022   -0.002013\n",
       "Name: Sea Level Rise, dtype: float64"
      ]
     },
     "execution_count": 27,
     "metadata": {},
     "output_type": "execute_result"
    }
   ],
   "source": [
    "avg_sea_level_rise"
   ]
  },
  {
   "cell_type": "code",
   "execution_count": 28,
   "id": "43f26d29",
   "metadata": {},
   "outputs": [
    {
     "data": {
      "text/plain": [
       "Country\n",
       "Ecuador           0.486669\n",
       "Tokelau           0.415068\n",
       "Maldives          0.403618\n",
       "Norfolk Island    0.394078\n",
       "Portugal          0.375638\n",
       "Name: Sea Level Rise, dtype: float64"
      ]
     },
     "execution_count": 28,
     "metadata": {},
     "output_type": "execute_result"
    }
   ],
   "source": [
    "countries_most_sea_level_rise"
   ]
  },
  {
   "cell_type": "markdown",
   "id": "f2f2d98f",
   "metadata": {},
   "source": [
    "### Explore Precipitation Variation"
   ]
  },
  {
   "cell_type": "code",
   "execution_count": 30,
   "id": "8e684421",
   "metadata": {},
   "outputs": [],
   "source": [
    "# Group data by country and calculate average precipitation\n",
    "country_avg_precipitation = df.groupby('Country')['Precipitation'].mean()\n"
   ]
  },
  {
   "cell_type": "code",
   "execution_count": 45,
   "id": "7b2f3628",
   "metadata": {},
   "outputs": [
    {
     "ename": "AttributeError",
     "evalue": "'float' object has no attribute 'nlargest'",
     "output_type": "error",
     "traceback": [
      "\u001b[1;31m---------------------------------------------------------------------------\u001b[0m",
      "\u001b[1;31mAttributeError\u001b[0m                            Traceback (most recent call last)",
      "Cell \u001b[1;32mIn[45], line 2\u001b[0m\n\u001b[0;32m      1\u001b[0m \u001b[38;5;66;03m# Identify countries with notable changes in rainfall patterns over time\u001b[39;00m\n\u001b[1;32m----> 2\u001b[0m countries_notable_rainfall_changes \u001b[38;5;241m=\u001b[39m \u001b[43mcountry_avg_precipitation\u001b[49m\u001b[38;5;241;43m.\u001b[39;49m\u001b[43mstd\u001b[49m\u001b[43m(\u001b[49m\u001b[43m)\u001b[49m\u001b[38;5;241;43m.\u001b[39;49m\u001b[43mnlargest\u001b[49m(\u001b[38;5;241m5\u001b[39m)\n",
      "\u001b[1;31mAttributeError\u001b[0m: 'float' object has no attribute 'nlargest'"
     ]
    }
   ],
   "source": [
    "# Identify countries with notable changes in rainfall patterns over time\n",
    "countries_notable_rainfall_changes = country_avg_precipitation.std().nlargest(5)"
   ]
  },
  {
   "cell_type": "code",
   "execution_count": 34,
   "id": "a42c6919",
   "metadata": {},
   "outputs": [
    {
     "ename": "AttributeError",
     "evalue": "'float' object has no attribute 'nlargest'",
     "output_type": "error",
     "traceback": [
      "\u001b[1;31m---------------------------------------------------------------------------\u001b[0m",
      "\u001b[1;31mAttributeError\u001b[0m                            Traceback (most recent call last)",
      "Cell \u001b[1;32mIn[34], line 1\u001b[0m\n\u001b[1;32m----> 1\u001b[0m \u001b[43mcountry_avg_precipitation\u001b[49m\u001b[38;5;241;43m.\u001b[39;49m\u001b[43mstd\u001b[49m\u001b[43m(\u001b[49m\u001b[43m)\u001b[49m\u001b[38;5;241;43m.\u001b[39;49m\u001b[43mnlargest\u001b[49m(\u001b[38;5;241m5\u001b[39m)\n",
      "\u001b[1;31mAttributeError\u001b[0m: 'float' object has no attribute 'nlargest'"
     ]
    }
   ],
   "source": [
    "country_avg_precipitation.std().nlargest(5)"
   ]
  },
  {
   "cell_type": "markdown",
   "id": "3ea4bf5a",
   "metadata": {},
   "source": [
    "### Investigate the Correlation Between Humidity and Temperature Changes:"
   ]
  },
  {
   "cell_type": "code",
   "execution_count": 35,
   "id": "13fbef9e",
   "metadata": {},
   "outputs": [],
   "source": [
    "# Calculate correlation coefficient between humidity and temperature\n",
    "correlation_humidity_temp = df['Humidity'].corr(df['Temperature'])\n"
   ]
  },
  {
   "cell_type": "code",
   "execution_count": 36,
   "id": "5a82519c",
   "metadata": {},
   "outputs": [
    {
     "data": {
      "text/plain": [
       "-0.015736754147136003"
      ]
     },
     "execution_count": 36,
     "metadata": {},
     "output_type": "execute_result"
    }
   ],
   "source": [
    "correlation_humidity_temp"
   ]
  },
  {
   "cell_type": "markdown",
   "id": "60e45e57",
   "metadata": {},
   "source": [
    "### Analyze Changes in Wind Speed:"
   ]
  },
  {
   "cell_type": "code",
   "execution_count": 37,
   "id": "31916d1e",
   "metadata": {},
   "outputs": [],
   "source": [
    "# Group data by year and calculate average wind speed\n",
    "yearly_avg_wind_speed = df.groupby(df['Date'].dt.year)['Wind Speed'].mean()\n",
    "\n",
    "# Identify countries or regions with significant changes in wind speed\n",
    "countries_notable_wind_speed_changes = df.groupby('Country')['Wind Speed'].std().nlargest(5)\n"
   ]
  },
  {
   "cell_type": "markdown",
   "id": "459a559c",
   "metadata": {},
   "source": [
    "### Explore Seasonal Variations:"
   ]
  },
  {
   "cell_type": "code",
   "execution_count": 40,
   "id": "4bc76a0a",
   "metadata": {},
   "outputs": [],
   "source": [
    "# Group data by month and calculate average temperature and precipitation\n",
    "monthly_avg_temp = df.groupby(df['Date'].dt.month)['Temperature'].mean()\n",
    "monthly_avg_precipitation = df.groupby(df['Date'].dt.month)['Precipitation'].mean()\n"
   ]
  },
  {
   "cell_type": "code",
   "execution_count": 43,
   "id": "bdcba25d",
   "metadata": {},
   "outputs": [
    {
     "data": {
      "text/plain": [
       "[<matplotlib.lines.Line2D at 0x202e4bbc0a0>]"
      ]
     },
     "execution_count": 43,
     "metadata": {},
     "output_type": "execute_result"
    },
    {
     "data": {
      "image/png": "[encoded data removed]",
      "text/plain": [
       "<Figure size 640x480 with 1 Axes>"
      ]
     },
     "metadata": {},
     "output_type": "display_data"
    }
   ],
   "source": [
    "# Plot seasonal variations in temperature and precipitation\n",
    "months = ['Jan', 'Feb', 'Mar', 'Apr', 'May', 'Jun', 'Jul', 'Aug', 'Sep', 'Oct', 'Nov', 'Dec']\n",
    "plt.plot(months, monthly_avg_temp.values, label='Temperature')\n",
    "plt.plot(months)\n"
   ]
  },
  {
   "cell_type": "code",
   "execution_count": null,
   "id": "76ed52c8",
   "metadata": {},
   "outputs": [],
   "source": []
  }
 ],
 "metadata": {
  "kernelspec": {
   "display_name": "Python 3 (ipykernel)",
   "language": "python",
   "name": "python3"
  },
  "language_info": {
   "codemirror_mode": {
    "name": "ipython",
    "version": 3
   },
   "file_extension": ".py",
   "mimetype": "text/x-python",
   "name": "python",
   "nbconvert_exporter": "python",
   "pygments_lexer": "ipython3",
   "version": "3.10.9"
  }
 },
 "nbformat": 4,
 "nbformat_minor": 5
}
